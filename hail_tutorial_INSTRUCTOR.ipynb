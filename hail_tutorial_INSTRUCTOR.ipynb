{
 "cells": [
  {
   "cell_type": "markdown",
   "metadata": {},
   "source": [
    "# Hail Introduction"
   ]
  },
  {
   "cell_type": "markdown",
   "metadata": {},
   "source": [
    "Tutorial snippet from: https://hail.is/docs/stable/tutorials/hail-overview.html\n",
    "\n",
    "We begin with some imports."
   ]
  },
  {
   "cell_type": "code",
   "execution_count": 1,
   "metadata": {
    "collapsed": false
   },
   "outputs": [],
   "source": [
    "from hail import *\n",
    "import numpy as np\n",
    "import pandas as pd\n",
    "import matplotlib.pyplot as plt\n",
    "import matplotlib.patches as mpatches\n",
    "from collections import Counter\n",
    "from math import log, isnan\n",
    "from pprint import pprint\n",
    "%matplotlib inline"
   ]
  },
  {
   "cell_type": "markdown",
   "metadata": {},
   "source": [
    "Each notebook starts the same: creating a `HailContext`. Below, we do this and read in a vds from hdfs."
   ]
  },
  {
   "cell_type": "code",
   "execution_count": 2,
   "metadata": {
    "collapsed": false
   },
   "outputs": [
    {
     "name": "stdout",
     "output_type": "stream",
     "text": [
      "\n",
      "         Samples: 2535\n",
      "        Variants: 838153\n",
      "       Call Rate: 0.977206\n",
      "         Contigs: ['X', '12', '8', '19', '4', '15', '11', '9', '22', '13', '16', '5', '10', '21', '6', '1', '17', '14', '20', '2', '18', '7', '3']\n",
      "   Multiallelics: 0\n",
      "            SNPs: 714348\n",
      "            MNPs: 0\n",
      "      Insertions: 52666\n",
      "       Deletions: 71137\n",
      " Complex Alleles: 2\n",
      "    Star Alleles: 0\n",
      "     Max Alleles: 2\n"
     ]
    }
   ],
   "source": [
    "hc = HailContext()\n",
    "vds = hc.read('gs://hail-1kg/ALL.1KG.800K.vds/').split_multi()\n",
    "vds.summarize().report()"
   ]
  },
  {
   "cell_type": "markdown",
   "metadata": {},
   "source": [
    "The query_variants method is the first time we’ll see the Hail expression language. The expression language allows for a variety of incredibly expressive queries and computations, but is probably the most complex part of Hail. See the pair of tutorials on the expression language to learn more!"
   ]
  },
  {
   "cell_type": "code",
   "execution_count": 3,
   "metadata": {
    "collapsed": false
   },
   "outputs": [
    {
     "data": {
      "text/plain": [
       "[Variant(contig=7, start=8104099, ref=C, alts=[AltAllele(ref=C, alt=T)]),\n",
       " Variant(contig=7, start=8107521, ref=G, alts=[AltAllele(ref=G, alt=T)]),\n",
       " Variant(contig=7, start=8109080, ref=G, alts=[AltAllele(ref=G, alt=T)]),\n",
       " Variant(contig=7, start=8111063, ref=G, alts=[AltAllele(ref=G, alt=C)]),\n",
       " Variant(contig=7, start=8116467, ref=T, alts=[AltAllele(ref=T, alt=C)])]"
      ]
     },
     "execution_count": 3,
     "metadata": {},
     "output_type": "execute_result"
    }
   ],
   "source": [
    "vds.query_variants('variants.take(5)')"
   ]
  },
  {
   "cell_type": "markdown",
   "metadata": {
    "collapsed": true
   },
   "source": [
    "There are often several ways to do something in Hail. Here are two ways to peek at the first few sample IDs:"
   ]
  },
  {
   "cell_type": "code",
   "execution_count": 4,
   "metadata": {
    "collapsed": false
   },
   "outputs": [
    {
     "data": {
      "text/plain": [
       "[u'HG00096', u'HG00097', u'HG00099', u'HG00100', u'HG00101']"
      ]
     },
     "execution_count": 4,
     "metadata": {},
     "output_type": "execute_result"
    }
   ],
   "source": [
    "vds.query_samples('samples.take(5)')"
   ]
  },
  {
   "cell_type": "code",
   "execution_count": 5,
   "metadata": {
    "collapsed": false
   },
   "outputs": [
    {
     "data": {
      "text/plain": [
       "[u'HG00096', u'HG00097', u'HG00099', u'HG00100', u'HG00101']"
      ]
     },
     "execution_count": 5,
     "metadata": {},
     "output_type": "execute_result"
    }
   ],
   "source": [
    "vds.sample_ids[:5]"
   ]
  },
  {
   "cell_type": "markdown",
   "metadata": {},
   "source": [
    "There’s a similar interface for looking at the genotypes in a dataset. We use `query_genotypes` to look at the first few genotype calls."
   ]
  },
  {
   "cell_type": "code",
   "execution_count": 6,
   "metadata": {
    "collapsed": false
   },
   "outputs": [
    {
     "data": {
      "text/plain": [
       "[Genotype(GT=0, AD=[4, 0], DP=4, GQ=12, PL=[0, 12, 167]),\n",
       " Genotype(GT=0, AD=[3, 0], DP=3, GQ=9, PL=[0, 9, 112]),\n",
       " Genotype(GT=0, AD=[2, 0], DP=2, GQ=6, PL=[0, 6, 78]),\n",
       " Genotype(GT=0, AD=[11, 0], DP=11, GQ=33, PL=[0, 33, 410]),\n",
       " Genotype(GT=0, AD=[3, 0], DP=3, GQ=9, PL=[0, 9, 118])]"
      ]
     },
     "execution_count": 6,
     "metadata": {},
     "output_type": "execute_result"
    }
   ],
   "source": [
    "vds.query_genotypes('gs.take(5)')"
   ]
  },
  {
   "cell_type": "markdown",
   "metadata": {},
   "source": [
    "## Integrate Sample Annotations"
   ]
  },
  {
   "cell_type": "markdown",
   "metadata": {},
   "source": [
    "The annotations file can be imported into Hail with HailContext.import_table. This method produces a KeyTable object. Think of this as a Pandas or R dataframe that isn’t limited by the memory on your machine – behind the scenes, it’s distributed with Spark."
   ]
  },
  {
   "cell_type": "code",
   "execution_count": 7,
   "metadata": {
    "collapsed": false
   },
   "outputs": [],
   "source": [
    "table = hc.import_table('gs://hail-1kg/1kg-silly.sample_annotations', impute=True)\\\n",
    "    .key_by('Sample')"
   ]
  },
  {
   "cell_type": "markdown",
   "metadata": {},
   "source": [
    "A good way to peek at the structure of a `KeyTable` is to look at its `schema.`"
   ]
  },
  {
   "cell_type": "code",
   "execution_count": 8,
   "metadata": {
    "collapsed": false
   },
   "outputs": [
    {
     "name": "stdout",
     "output_type": "stream",
     "text": [
      "Struct{Sample:String,Population:String,SuperPopulation:String,isFemale:Boolean,PurpleHair:Boolean,CaffeineConsumption:Double}\n"
     ]
    }
   ],
   "source": [
    "print(table.schema)"
   ]
  },
  {
   "cell_type": "markdown",
   "metadata": {},
   "source": [
    "The Python pprint method makes illegible printouts pretty:"
   ]
  },
  {
   "cell_type": "code",
   "execution_count": 9,
   "metadata": {
    "collapsed": false
   },
   "outputs": [
    {
     "name": "stdout",
     "output_type": "stream",
     "text": [
      "Struct{\n",
      "     Sample: String,\n",
      "     Population: String,\n",
      "     SuperPopulation: String,\n",
      "     isFemale: Boolean,\n",
      "     PurpleHair: Boolean,\n",
      "     CaffeineConsumption: Double\n",
      " }\n"
     ]
    }
   ],
   "source": [
    "pprint(table.schema)"
   ]
  },
  {
   "cell_type": "markdown",
   "metadata": {},
   "source": [
    "Now we’ll use this table to add sample annotations to our dataset. First, we’ll print the schema of the sample annotations already there:"
   ]
  },
  {
   "cell_type": "code",
   "execution_count": 10,
   "metadata": {
    "collapsed": false
   },
   "outputs": [
    {
     "name": "stdout",
     "output_type": "stream",
     "text": [
      "Empty\n"
     ]
    }
   ],
   "source": [
    "pprint(vds.sample_schema)"
   ]
  },
  {
   "cell_type": "markdown",
   "metadata": {},
   "source": [
    "We use the annotate_samples_table method to join the table with the VDS."
   ]
  },
  {
   "cell_type": "code",
   "execution_count": 11,
   "metadata": {
    "collapsed": false
   },
   "outputs": [
    {
     "name": "stdout",
     "output_type": "stream",
     "text": [
      "Struct{\n",
      "     Population: String,\n",
      "     SuperPopulation: String,\n",
      "     isFemale: Boolean,\n",
      "     PurpleHair: Boolean,\n",
      "     CaffeineConsumption: Double\n",
      " }\n"
     ]
    }
   ],
   "source": [
    "vds = vds.annotate_samples_table(table, root='sa')\n",
    "pprint(vds.sample_schema)"
   ]
  },
  {
   "cell_type": "markdown",
   "metadata": {},
   "source": [
    "## Query Functions and the Hail Expression Language"
   ]
  },
  {
   "cell_type": "markdown",
   "metadata": {},
   "source": [
    "We start by looking at some statistics of the information in our table. The query method uses the expression language to aggregate over the rows of the table.\n",
    "\n",
    "`counter` is an aggregation function that counts the number of occurrences of each unique element. We can use this to pull out the population distribution."
   ]
  },
  {
   "cell_type": "code",
   "execution_count": 12,
   "metadata": {
    "collapsed": false
   },
   "outputs": [
    {
     "name": "stdout",
     "output_type": "stream",
     "text": [
      "{u'AFR': 1018L, u'AMR': 535L, u'EAS': 617L, u'EUR': 669L, u'SAS': 661L}\n"
     ]
    }
   ],
   "source": [
    "pprint(table.query('SuperPopulation.counter()'))"
   ]
  },
  {
   "cell_type": "markdown",
   "metadata": {},
   "source": [
    "`stats` is an aggregation function that produces some useful statistics about numeric collections. We can use this to see the distribution of the CaffeineConsumption phenotype."
   ]
  },
  {
   "cell_type": "code",
   "execution_count": 13,
   "metadata": {
    "collapsed": false
   },
   "outputs": [
    {
     "name": "stdout",
     "output_type": "stream",
     "text": [
      "{u'max': 83.0,\n",
      " u'mean': 67.07599999999991,\n",
      " u'min': 53.0,\n",
      " u'nNotMissing': 3500L,\n",
      " u'stdev': 4.574831269331922,\n",
      " u'sum': 234765.99999999968}\n"
     ]
    }
   ],
   "source": [
    "pprint(table.query('CaffeineConsumption.stats()'))"
   ]
  },
  {
   "cell_type": "markdown",
   "metadata": {},
   "source": [
    "However, these metrics aren’t perfectly representative of the samples in our dataset. Here’s why:"
   ]
  },
  {
   "cell_type": "code",
   "execution_count": 14,
   "metadata": {
    "collapsed": false
   },
   "outputs": [
    {
     "data": {
      "text/plain": [
       "{u'AFR': 669L, u'AMR': 352L, u'EAS': 515L, u'EUR': 505L, u'SAS': 494L}"
      ]
     },
     "execution_count": 14,
     "metadata": {},
     "output_type": "execute_result"
    }
   ],
   "source": [
    "vds.query_samples('samples.map(s => sa.SuperPopulation).counter()')"
   ]
  },
  {
   "cell_type": "code",
   "execution_count": 15,
   "metadata": {
    "collapsed": false
   },
   "outputs": [
    {
     "name": "stdout",
     "output_type": "stream",
     "text": [
      "{u'max': 81.0,\n",
      " u'mean': 67.0339250493096,\n",
      " u'min': 53.0,\n",
      " u'nNotMissing': 2535L,\n",
      " u'stdev': 4.560316022725173,\n",
      " u'sum': 169930.99999999985}\n"
     ]
    }
   ],
   "source": [
    "pprint(vds.query_samples('samples.map(s => sa.CaffeineConsumption).stats()'))"
   ]
  },
  {
   "cell_type": "markdown",
   "metadata": {},
   "source": [
    "The functionality demonstrated in the last few cells isn’t anything especially new: it’s certainly not difficult to ask these questions with Pandas or R dataframes, or even Unix tools like awk. But Hail can use the same interfaces and query language to analyze collections that are much larger, like the set of variants.\n",
    "\n",
    "Here we calculate the counts of each of the 12 possible unique SNPs (4 choices for the reference base * 3 choices for the alternate base). To do this, we need to map the variants to their alternate allele, filter to SNPs, and count by unique ref/alt pair:"
   ]
  },
  {
   "cell_type": "code",
   "execution_count": 16,
   "metadata": {
    "collapsed": false
   },
   "outputs": [
    {
     "name": "stdout",
     "output_type": "stream",
     "text": [
      "[(AltAllele(ref=C, alt=T), 142527L),\n",
      " (AltAllele(ref=G, alt=A), 142293L),\n",
      " (AltAllele(ref=T, alt=C), 98288L),\n",
      " (AltAllele(ref=A, alt=G), 98155L),\n",
      " (AltAllele(ref=C, alt=A), 33506L),\n",
      " (AltAllele(ref=G, alt=T), 33060L),\n",
      " (AltAllele(ref=G, alt=C), 30558L),\n",
      " (AltAllele(ref=C, alt=G), 30268L),\n",
      " (AltAllele(ref=T, alt=G), 28380L),\n",
      " (AltAllele(ref=A, alt=C), 28253L),\n",
      " (AltAllele(ref=A, alt=T), 24542L),\n",
      " (AltAllele(ref=T, alt=A), 24518L)]\n"
     ]
    }
   ],
   "source": [
    "snp_counts = vds.query_variants('variants.map(v => v.altAllele()).filter(aa => aa.isSNP()).counter()')\n",
    "pprint(Counter(snp_counts).most_common())"
   ]
  },
  {
   "cell_type": "markdown",
   "metadata": {},
   "source": [
    "It’s nice to see that we can actually uncover something biological from this small dataset: we see that these frequencies come in pairs. C/T and G/A are actually the same mutation, just viewed from from opposite strands. Likewise, T/A and A/T are the same mutation on opposite strands. There’s a 30x difference between the frequency of C/T and A/T SNPs. Why?\n",
    "\n",
    "The same Python, R, and Unix tools could do this work as well, but we’re starting to hit a wall - the latest gnomAD release publishes about 250 million variants, and that won’t fit in memory on a single computer.\n",
    "\n",
    "What about genotypes? Hail can query the collection of all genotypes in the dataset, and this is getting large even for our tiny dataset. Our 1,000 samples and 10,000 variants produce 10 million unique genotypes. The gnomAD dataset has about 5 trillion unique genotypes.\n",
    "\n",
    "Here we will use the hist aggregator to produce and plot a histogram of DP values for genotypes in our thousand genomes dataset."
   ]
  },
  {
   "cell_type": "code",
   "execution_count": 17,
   "metadata": {
    "collapsed": false,
    "scrolled": false
   },
   "outputs": [
    {
     "data": {
      "image/png": "[encoded data removed]",
      "text/plain": [
       "<matplotlib.figure.Figure at 0x7f98f8390310>"
      ]
     },
     "metadata": {},
     "output_type": "display_data"
    }
   ],
   "source": [
    "dp_hist = vds.query_genotypes('gs.map(g => g.dp).hist(0, 30, 30)')\n",
    "plt.xlim(0, 31)\n",
    "plt.bar(dp_hist.binEdges[1:], dp_hist.binFrequencies)\n",
    "plt.show()"
   ]
  },
  {
   "cell_type": "markdown",
   "metadata": {},
   "source": [
    "## Quality Control"
   ]
  },
  {
   "cell_type": "markdown",
   "metadata": {},
   "source": [
    "QC is where analysts spend most of their time with sequencing datasets. QC is an iterative process, and is different for every project: there is no “push-button” solution for QC. Each time the Broad collects a new group of samples, it finds new batch effects. However, by practicing open science and discussing the QC process and decisions with others, we can establish a set of best practices as a community.\n",
    "\n",
    "QC is entirely based on the ability to understand the properties of a dataset. Hail attempts to make this easier by providing the sample_qc method, which produces a set of useful metrics as sample annotations."
   ]
  },
  {
   "cell_type": "code",
   "execution_count": 18,
   "metadata": {
    "collapsed": false
   },
   "outputs": [
    {
     "name": "stdout",
     "output_type": "stream",
     "text": [
      "Struct{\n",
      "     Population: String,\n",
      "     SuperPopulation: String,\n",
      "     isFemale: Boolean,\n",
      "     PurpleHair: Boolean,\n",
      "     CaffeineConsumption: Double\n",
      " }\n"
     ]
    }
   ],
   "source": [
    "pprint(vds.sample_schema)"
   ]
  },
  {
   "cell_type": "code",
   "execution_count": 19,
   "metadata": {
    "collapsed": false
   },
   "outputs": [
    {
     "name": "stdout",
     "output_type": "stream",
     "text": [
      "Struct{\n",
      "     Population: String,\n",
      "     SuperPopulation: String,\n",
      "     isFemale: Boolean,\n",
      "     PurpleHair: Boolean,\n",
      "     CaffeineConsumption: Double,\n",
      "     qc: Struct{\n",
      "         callRate: Double,\n",
      "         nCalled: Int,\n",
      "         nNotCalled: Int,\n",
      "         nHomRef: Int,\n",
      "         nHet: Int,\n",
      "         nHomVar: Int,\n",
      "         nSNP: Int,\n",
      "         nInsertion: Int,\n",
      "         nDeletion: Int,\n",
      "         nSingleton: Int,\n",
      "         nTransition: Int,\n",
      "         nTransversion: Int,\n",
      "         dpMean: Double,\n",
      "         dpStDev: Double,\n",
      "         gqMean: Double,\n",
      "         gqStDev: Double,\n",
      "         nNonRef: Int,\n",
      "         rTiTv: Double,\n",
      "         rHetHomVar: Double,\n",
      "         rInsertionDeletion: Double\n",
      "     }\n",
      " }\n"
     ]
    }
   ],
   "source": [
    "vds = vds.sample_qc()\n",
    "pprint(vds.sample_schema)"
   ]
  },
  {
   "cell_type": "markdown",
   "metadata": {},
   "source": [
    "Interoperability is a big part of Hail. We can pull out these new metrics to a Pandas dataframe with one line of code:"
   ]
  },
  {
   "cell_type": "code",
   "execution_count": 20,
   "metadata": {
    "collapsed": false
   },
   "outputs": [
    {
     "data": {
      "text/html": [
       "<div>\n",
       "<table border=\"1\" class=\"dataframe\">\n",
       "  <thead>\n",
       "    <tr style=\"text-align: right;\">\n",
       "      <th></th>\n",
       "      <th>s</th>\n",
       "      <th>sa.Population</th>\n",
       "      <th>sa.SuperPopulation</th>\n",
       "      <th>sa.isFemale</th>\n",
       "      <th>sa.PurpleHair</th>\n",
       "      <th>sa.CaffeineConsumption</th>\n",
       "      <th>sa.qc.callRate</th>\n",
       "      <th>sa.qc.nCalled</th>\n",
       "      <th>sa.qc.nNotCalled</th>\n",
       "      <th>sa.qc.nHomRef</th>\n",
       "      <th>...</th>\n",
       "      <th>sa.qc.nTransition</th>\n",
       "      <th>sa.qc.nTransversion</th>\n",
       "      <th>sa.qc.dpMean</th>\n",
       "      <th>sa.qc.dpStDev</th>\n",
       "      <th>sa.qc.gqMean</th>\n",
       "      <th>sa.qc.gqStDev</th>\n",
       "      <th>sa.qc.nNonRef</th>\n",
       "      <th>sa.qc.rTiTv</th>\n",
       "      <th>sa.qc.rHetHomVar</th>\n",
       "      <th>sa.qc.rInsertionDeletion</th>\n",
       "    </tr>\n",
       "  </thead>\n",
       "  <tbody>\n",
       "    <tr>\n",
       "      <th>0</th>\n",
       "      <td>HG00096</td>\n",
       "      <td>GBR</td>\n",
       "      <td>EUR</td>\n",
       "      <td>False</td>\n",
       "      <td>False</td>\n",
       "      <td>77.0</td>\n",
       "      <td>0.965758</td>\n",
       "      <td>809453</td>\n",
       "      <td>28700</td>\n",
       "      <td>719381</td>\n",
       "      <td>...</td>\n",
       "      <td>72692</td>\n",
       "      <td>35453</td>\n",
       "      <td>4.366649</td>\n",
       "      <td>2.378443</td>\n",
       "      <td>15.459878</td>\n",
       "      <td>13.037184</td>\n",
       "      <td>90072</td>\n",
       "      <td>2.050377</td>\n",
       "      <td>1.045510</td>\n",
       "      <td>1.035838</td>\n",
       "    </tr>\n",
       "    <tr>\n",
       "      <th>1</th>\n",
       "      <td>HG00097</td>\n",
       "      <td>GBR</td>\n",
       "      <td>EUR</td>\n",
       "      <td>True</td>\n",
       "      <td>True</td>\n",
       "      <td>67.0</td>\n",
       "      <td>0.990115</td>\n",
       "      <td>829868</td>\n",
       "      <td>8285</td>\n",
       "      <td>730755</td>\n",
       "      <td>...</td>\n",
       "      <td>75498</td>\n",
       "      <td>37129</td>\n",
       "      <td>8.626977</td>\n",
       "      <td>3.905912</td>\n",
       "      <td>29.803904</td>\n",
       "      <td>18.507187</td>\n",
       "      <td>99113</td>\n",
       "      <td>2.033397</td>\n",
       "      <td>1.472262</td>\n",
       "      <td>1.111809</td>\n",
       "    </tr>\n",
       "    <tr>\n",
       "      <th>2</th>\n",
       "      <td>HG00099</td>\n",
       "      <td>GBR</td>\n",
       "      <td>EUR</td>\n",
       "      <td>True</td>\n",
       "      <td>False</td>\n",
       "      <td>64.0</td>\n",
       "      <td>0.982671</td>\n",
       "      <td>823629</td>\n",
       "      <td>14524</td>\n",
       "      <td>727480</td>\n",
       "      <td>...</td>\n",
       "      <td>75003</td>\n",
       "      <td>36585</td>\n",
       "      <td>7.351780</td>\n",
       "      <td>3.864504</td>\n",
       "      <td>25.510748</td>\n",
       "      <td>18.014715</td>\n",
       "      <td>96149</td>\n",
       "      <td>2.050103</td>\n",
       "      <td>1.340132</td>\n",
       "      <td>1.064392</td>\n",
       "    </tr>\n",
       "    <tr>\n",
       "      <th>3</th>\n",
       "      <td>HG00100</td>\n",
       "      <td>GBR</td>\n",
       "      <td>EUR</td>\n",
       "      <td>True</td>\n",
       "      <td>False</td>\n",
       "      <td>59.0</td>\n",
       "      <td>0.997518</td>\n",
       "      <td>836073</td>\n",
       "      <td>2080</td>\n",
       "      <td>733106</td>\n",
       "      <td>...</td>\n",
       "      <td>77025</td>\n",
       "      <td>37665</td>\n",
       "      <td>12.031569</td>\n",
       "      <td>4.467401</td>\n",
       "      <td>40.238605</td>\n",
       "      <td>19.649615</td>\n",
       "      <td>102967</td>\n",
       "      <td>2.045002</td>\n",
       "      <td>1.645267</td>\n",
       "      <td>0.926214</td>\n",
       "    </tr>\n",
       "    <tr>\n",
       "      <th>4</th>\n",
       "      <td>HG00101</td>\n",
       "      <td>GBR</td>\n",
       "      <td>EUR</td>\n",
       "      <td>False</td>\n",
       "      <td>True</td>\n",
       "      <td>77.0</td>\n",
       "      <td>0.989422</td>\n",
       "      <td>829287</td>\n",
       "      <td>8866</td>\n",
       "      <td>732142</td>\n",
       "      <td>...</td>\n",
       "      <td>75106</td>\n",
       "      <td>36909</td>\n",
       "      <td>6.381239</td>\n",
       "      <td>3.058402</td>\n",
       "      <td>22.248394</td>\n",
       "      <td>15.784409</td>\n",
       "      <td>97145</td>\n",
       "      <td>2.034897</td>\n",
       "      <td>1.355316</td>\n",
       "      <td>1.113551</td>\n",
       "    </tr>\n",
       "  </tbody>\n",
       "</table>\n",
       "<p>5 rows × 26 columns</p>\n",
       "</div>"
      ],
      "text/plain": [
       "         s sa.Population sa.SuperPopulation sa.isFemale sa.PurpleHair  \\\n",
       "0  HG00096           GBR                EUR       False         False   \n",
       "1  HG00097           GBR                EUR        True          True   \n",
       "2  HG00099           GBR                EUR        True         False   \n",
       "3  HG00100           GBR                EUR        True         False   \n",
       "4  HG00101           GBR                EUR       False          True   \n",
       "\n",
       "   sa.CaffeineConsumption  sa.qc.callRate  sa.qc.nCalled  sa.qc.nNotCalled  \\\n",
       "0                    77.0        0.965758         809453             28700   \n",
       "1                    67.0        0.990115         829868              8285   \n",
       "2                    64.0        0.982671         823629             14524   \n",
       "3                    59.0        0.997518         836073              2080   \n",
       "4                    77.0        0.989422         829287              8866   \n",
       "\n",
       "   sa.qc.nHomRef            ...             sa.qc.nTransition  \\\n",
       "0         719381            ...                         72692   \n",
       "1         730755            ...                         75498   \n",
       "2         727480            ...                         75003   \n",
       "3         733106            ...                         77025   \n",
       "4         732142            ...                         75106   \n",
       "\n",
       "   sa.qc.nTransversion  sa.qc.dpMean  sa.qc.dpStDev  sa.qc.gqMean  \\\n",
       "0                35453      4.366649       2.378443     15.459878   \n",
       "1                37129      8.626977       3.905912     29.803904   \n",
       "2                36585      7.351780       3.864504     25.510748   \n",
       "3                37665     12.031569       4.467401     40.238605   \n",
       "4                36909      6.381239       3.058402     22.248394   \n",
       "\n",
       "   sa.qc.gqStDev  sa.qc.nNonRef  sa.qc.rTiTv  sa.qc.rHetHomVar  \\\n",
       "0      13.037184          90072     2.050377          1.045510   \n",
       "1      18.507187          99113     2.033397          1.472262   \n",
       "2      18.014715          96149     2.050103          1.340132   \n",
       "3      19.649615         102967     2.045002          1.645267   \n",
       "4      15.784409          97145     2.034897          1.355316   \n",
       "\n",
       "   sa.qc.rInsertionDeletion  \n",
       "0                  1.035838  \n",
       "1                  1.111809  \n",
       "2                  1.064392  \n",
       "3                  0.926214  \n",
       "4                  1.113551  \n",
       "\n",
       "[5 rows x 26 columns]"
      ]
     },
     "execution_count": 20,
     "metadata": {},
     "output_type": "execute_result"
    }
   ],
   "source": [
    "df = vds.samples_table().to_pandas()\n",
    "df.head()"
   ]
  },
  {
   "cell_type": "markdown",
   "metadata": {},
   "source": [
    "Plotting the QC metrics is a good place to start."
   ]
  },
  {
   "cell_type": "code",
   "execution_count": 21,
   "metadata": {
    "collapsed": false
   },
   "outputs": [
    {
     "data": {
      "image/png": "[encoded data removed]",
      "text/plain": [
       "<matplotlib.figure.Figure at 0x7f98f0e49290>"
      ]
     },
     "metadata": {},
     "output_type": "display_data"
    }
   ],
   "source": [
    "plt.clf()\n",
    "plt.subplot(1, 2, 1)\n",
    "plt.hist(df[\"sa.qc.callRate\"], bins=np.arange(.75, 1.01, .01))\n",
    "plt.xlabel(\"Call Rate\")\n",
    "plt.ylabel(\"Frequency\")\n",
    "plt.xlim(.75, 1)\n",
    "\n",
    "plt.subplot(1, 2, 2)\n",
    "plt.hist(df[\"sa.qc.gqMean\"], bins = np.arange(0, 105, 5))\n",
    "plt.xlabel(\"Mean Sample GQ\")\n",
    "plt.ylabel(\"Frequency\")\n",
    "plt.xlim(0, 105)\n",
    "\n",
    "plt.tight_layout()\n",
    "plt.show()"
   ]
  },
  {
   "cell_type": "markdown",
   "metadata": {},
   "source": [
    "Often, these metrics are correlated."
   ]
  },
  {
   "cell_type": "code",
   "execution_count": 22,
   "metadata": {
    "collapsed": false
   },
   "outputs": [
    {
     "data": {
      "image/png": "[encoded data removed]",
      "text/plain": [
       "<matplotlib.figure.Figure at 0x7f98f0f0be10>"
      ]
     },
     "metadata": {},
     "output_type": "display_data"
    }
   ],
   "source": [
    "plt.scatter(df[\"sa.qc.dpMean\"], df[\"sa.qc.callRate\"],\n",
    "            alpha=0.1)\n",
    "plt.xlabel('Mean DP')\n",
    "plt.ylabel('Call Rate')\n",
    "plt.xlim(0, 20)\n",
    "plt.show()"
   ]
  },
  {
   "cell_type": "markdown",
   "metadata": {},
   "source": [
    "Removing outliers from the dataset will generally improve association results. We can draw lines on the above plot to indicate outlier cuts. We’ll want to remove all samples that fall in the bottom left quadrant."
   ]
  },
  {
   "cell_type": "code",
   "execution_count": 23,
   "metadata": {
    "collapsed": false
   },
   "outputs": [
    {
     "data": {
      "image/png": "[encoded data removed]",
      "text/plain": [
       "<matplotlib.figure.Figure at 0x7f98f0cb0f90>"
      ]
     },
     "metadata": {},
     "output_type": "display_data"
    }
   ],
   "source": [
    "plt.scatter(df[\"sa.qc.dpMean\"], df[\"sa.qc.callRate\"],\n",
    "            alpha=0.1)\n",
    "plt.xlabel('Mean DP')\n",
    "plt.ylabel('Call Rate')\n",
    "plt.xlim(0, 20)\n",
    "plt.axhline(0.97, c='k')\n",
    "plt.axvline(4, c='k')\n",
    "plt.show()"
   ]
  },
  {
   "cell_type": "markdown",
   "metadata": {},
   "source": [
    "It’s easy to filter when we’ve got the cutoff values decided:"
   ]
  },
  {
   "cell_type": "code",
   "execution_count": 24,
   "metadata": {
    "collapsed": false
   },
   "outputs": [
    {
     "name": "stdout",
     "output_type": "stream",
     "text": [
      "After filter, 1921/1000 samples remain.\n"
     ]
    }
   ],
   "source": [
    "vds = vds.filter_samples_expr('sa.qc.dpMean >= 4 && sa.qc.callRate >= 0.97')\n",
    "print('After filter, %d/1000 samples remain.' % vds.num_samples)"
   ]
  },
  {
   "cell_type": "markdown",
   "metadata": {},
   "source": [
    "Next is genotype QC. To start, we’ll print the post-sample-QC call rate. It’s actually gone up since the initial summary - dropping low-quality samples disproportionally removed missing genotypes."
   ]
  },
  {
   "cell_type": "code",
   "execution_count": 25,
   "metadata": {
    "collapsed": false
   },
   "outputs": [
    {
     "name": "stdout",
     "output_type": "stream",
     "text": [
      "pre QC call rate is 0.987\n"
     ]
    }
   ],
   "source": [
    "call_rate = vds.query_genotypes('gs.fraction(g => g.isCalled)')\n",
    "print('pre QC call rate is %.3f' % call_rate)"
   ]
  },
  {
   "cell_type": "markdown",
   "metadata": {},
   "source": [
    "It’s a good idea to filter out genotypes where the reads aren’t where they should be: if we find a genotype called homozygous reference with >10% alternate reads, a genotype called homozygous alternate with >10% reference reads, or a genotype called heterozygote without a ref / alt balance near 1:1, it is likely to be an error."
   ]
  },
  {
   "cell_type": "code",
   "execution_count": 26,
   "metadata": {
    "collapsed": false
   },
   "outputs": [
    {
     "name": "stdout",
     "output_type": "stream",
     "text": [
      "post QC call rate is 0.957\n"
     ]
    }
   ],
   "source": [
    "filter_condition_ab = '''let ab = g.ad[1] / g.ad.sum() in\n",
    "                         ((g.isHomRef && ab <= 0.1) ||\n",
    "                          (g.isHet && ab >= 0.25 && ab <= 0.75) ||\n",
    "                          (g.isHomVar && ab >= 0.9))'''\n",
    "vds = vds.filter_genotypes(filter_condition_ab)\n",
    "post_qc_call_rate = vds.query_genotypes('gs.fraction(g => g.isCalled)')\n",
    "print('post QC call rate is %.3f' % post_qc_call_rate)"
   ]
  },
  {
   "cell_type": "markdown",
   "metadata": {},
   "source": [
    "Variant QC is a bit more of the same: we can use the variant_qc method to produce a variety of useful statistics, plot them, and filter."
   ]
  },
  {
   "cell_type": "code",
   "execution_count": 27,
   "metadata": {
    "collapsed": false
   },
   "outputs": [
    {
     "name": "stdout",
     "output_type": "stream",
     "text": [
      "Struct{\n",
      "     rsid: String,\n",
      "     qual: Double,\n",
      "     filters: Set[String],\n",
      "     pass: Boolean,\n",
      "     info: Struct{\n",
      "         AC: Array[Int],\n",
      "         AF: Array[Double],\n",
      "         AN: Int,\n",
      "         BaseQRankSum: Double,\n",
      "         ClippingRankSum: Double,\n",
      "         DP: Int,\n",
      "         DS: Boolean,\n",
      "         FS: Double,\n",
      "         HaplotypeScore: Double,\n",
      "         InbreedingCoeff: Double,\n",
      "         MLEAC: Array[Int],\n",
      "         MLEAF: Array[Double],\n",
      "         MQ: Double,\n",
      "         MQ0: Int,\n",
      "         MQRankSum: Double,\n",
      "         QD: Double,\n",
      "         ReadPosRankSum: Double,\n",
      "         set: String\n",
      "     },\n",
      "     aIndex: Int,\n",
      "     wasSplit: Boolean\n",
      " }\n"
     ]
    }
   ],
   "source": [
    "pprint(vds.variant_schema)"
   ]
  },
  {
   "cell_type": "markdown",
   "metadata": {},
   "source": [
    "The cache is used to optimize some of the downstream operations."
   ]
  },
  {
   "cell_type": "code",
   "execution_count": 28,
   "metadata": {
    "collapsed": false
   },
   "outputs": [
    {
     "name": "stdout",
     "output_type": "stream",
     "text": [
      "Struct{\n",
      "     rsid: String,\n",
      "     qual: Double,\n",
      "     filters: Set[String],\n",
      "     pass: Boolean,\n",
      "     info: Struct{\n",
      "         AC: Array[Int],\n",
      "         AF: Array[Double],\n",
      "         AN: Int,\n",
      "         BaseQRankSum: Double,\n",
      "         ClippingRankSum: Double,\n",
      "         DP: Int,\n",
      "         DS: Boolean,\n",
      "         FS: Double,\n",
      "         HaplotypeScore: Double,\n",
      "         InbreedingCoeff: Double,\n",
      "         MLEAC: Array[Int],\n",
      "         MLEAF: Array[Double],\n",
      "         MQ: Double,\n",
      "         MQ0: Int,\n",
      "         MQRankSum: Double,\n",
      "         QD: Double,\n",
      "         ReadPosRankSum: Double,\n",
      "         set: String\n",
      "     },\n",
      "     aIndex: Int,\n",
      "     wasSplit: Boolean,\n",
      "     qc: Struct{\n",
      "         callRate: Double,\n",
      "         AC: Int,\n",
      "         AF: Double,\n",
      "         nCalled: Int,\n",
      "         nNotCalled: Int,\n",
      "         nHomRef: Int,\n",
      "         nHet: Int,\n",
      "         nHomVar: Int,\n",
      "         dpMean: Double,\n",
      "         dpStDev: Double,\n",
      "         gqMean: Double,\n",
      "         gqStDev: Double,\n",
      "         nNonRef: Int,\n",
      "         rHeterozygosity: Double,\n",
      "         rHetHomVar: Double,\n",
      "         rExpectedHetFrequency: Double,\n",
      "         pHWE: Double\n",
      "     }\n",
      " }\n"
     ]
    }
   ],
   "source": [
    "vds = vds.variant_qc().cache()\n",
    "pprint(vds.variant_schema)"
   ]
  },
  {
   "cell_type": "code",
   "execution_count": 29,
   "metadata": {
    "collapsed": false
   },
   "outputs": [
    {
     "data": {
      "image/png": "[encoded data removed]",
      "text/plain": [
       "<matplotlib.figure.Figure at 0x7f98f0e53310>"
      ]
     },
     "metadata": {},
     "output_type": "display_data"
    }
   ],
   "source": [
    "variant_df = vds.variants_table().to_pandas()\n",
    "\n",
    "plt.clf()\n",
    "plt.subplot(2, 2, 1)\n",
    "variantgq_means = variant_df[\"va.qc.gqMean\"]\n",
    "plt.hist(variantgq_means, bins = np.arange(0, 84, 2))\n",
    "plt.xlabel(\"Variant Mean GQ\")\n",
    "plt.ylabel(\"Frequency\")\n",
    "plt.xlim(0, 80)\n",
    "\n",
    "plt.subplot(2, 2, 2)\n",
    "variant_mleaf = variant_df[\"va.qc.AF\"]\n",
    "plt.hist(variant_mleaf, bins = np.arange(0, 1.05, .025))\n",
    "plt.xlabel(\"Minor Allele Frequency\")\n",
    "plt.ylabel(\"Frequency\")\n",
    "plt.xlim(0, 1)\n",
    "\n",
    "plt.subplot(2, 2, 3)\n",
    "plt.hist(variant_df['va.qc.callRate'], bins = np.arange(0, 1.05, .01))\n",
    "plt.xlabel(\"Variant Call Rate\")\n",
    "plt.ylabel(\"Frequency\")\n",
    "plt.xlim(.5, 1)\n",
    "\n",
    "plt.subplot(2, 2, 4)\n",
    "plt.hist(variant_df['va.qc.pHWE'], bins = np.arange(0, 1.05, .025))\n",
    "plt.xlabel(\"Hardy-Weinberg Equilibrium p-value\")\n",
    "plt.ylabel(\"Frequency\")\n",
    "plt.xlim(0, 1)\n",
    "\n",
    "plt.tight_layout()\n",
    "plt.show()"
   ]
  },
  {
   "cell_type": "markdown",
   "metadata": {},
   "source": [
    "These statistics actually look pretty good: we don’t need to filter this dataset. Most datasets require thoughtful quality control, though. The filter_variants_expr method can help!"
   ]
  },
  {
   "cell_type": "markdown",
   "metadata": {},
   "source": [
    "## Let's do a GWAS!"
   ]
  },
  {
   "cell_type": "markdown",
   "metadata": {},
   "source": [
    "First, we need to restrict to variants that are:\n",
    "\n",
    "* common (we’ll use a cutoff of 1%)\n",
    "* uncorrelated (not in linkage disequilibrium)\n",
    "\n",
    "Both of these are easy in Hail."
   ]
  },
  {
   "cell_type": "code",
   "execution_count": 30,
   "metadata": {
    "collapsed": false
   },
   "outputs": [
    {
     "data": {
      "text/plain": [
       "(1921L, 241166L)"
      ]
     },
     "execution_count": 30,
     "metadata": {},
     "output_type": "execute_result"
    }
   ],
   "source": [
    "common_vds = (vds\n",
    "              .filter_variants_expr('va.qc.AF > 0.01')\n",
    "              .ld_prune(memory_per_core=256, num_cores=4))\n",
    "common_vds.count()"
   ]
  },
  {
   "cell_type": "markdown",
   "metadata": {},
   "source": [
    "These filters removed about 15% of sites (we started with a bit over 10,000). This is NOT representative of most sequencing datasets! We have already downsampled the full thousand genomes dataset to include more common variants than we’d expect by chance.\n",
    "\n",
    "In Hail, the association tests accept sample annotations for the sample phenotype and covariates. Since we’ve already got our phenotype of interest (caffeine consumption) in the dataset, we are good to go:"
   ]
  },
  {
   "cell_type": "code",
   "execution_count": 31,
   "metadata": {
    "collapsed": false
   },
   "outputs": [
    {
     "name": "stdout",
     "output_type": "stream",
     "text": [
      "Struct{\n",
      "     rsid: String,\n",
      "     qual: Double,\n",
      "     filters: Set[String],\n",
      "     pass: Boolean,\n",
      "     info: Struct{\n",
      "         AC: Array[Int],\n",
      "         AF: Array[Double],\n",
      "         AN: Int,\n",
      "         BaseQRankSum: Double,\n",
      "         ClippingRankSum: Double,\n",
      "         DP: Int,\n",
      "         DS: Boolean,\n",
      "         FS: Double,\n",
      "         HaplotypeScore: Double,\n",
      "         InbreedingCoeff: Double,\n",
      "         MLEAC: Array[Int],\n",
      "         MLEAF: Array[Double],\n",
      "         MQ: Double,\n",
      "         MQ0: Int,\n",
      "         MQRankSum: Double,\n",
      "         QD: Double,\n",
      "         ReadPosRankSum: Double,\n",
      "         set: String\n",
      "     },\n",
      "     aIndex: Int,\n",
      "     wasSplit: Boolean,\n",
      "     qc: Struct{\n",
      "         callRate: Double,\n",
      "         AC: Int,\n",
      "         AF: Double,\n",
      "         nCalled: Int,\n",
      "         nNotCalled: Int,\n",
      "         nHomRef: Int,\n",
      "         nHet: Int,\n",
      "         nHomVar: Int,\n",
      "         dpMean: Double,\n",
      "         dpStDev: Double,\n",
      "         gqMean: Double,\n",
      "         gqStDev: Double,\n",
      "         nNonRef: Int,\n",
      "         rHeterozygosity: Double,\n",
      "         rHetHomVar: Double,\n",
      "         rExpectedHetFrequency: Double,\n",
      "         pHWE: Double\n",
      "     },\n",
      "     linreg: Struct{\n",
      "         beta: Double,\n",
      "         se: Double,\n",
      "         tstat: Double,\n",
      "         pval: Double\n",
      "     }\n",
      " }\n"
     ]
    }
   ],
   "source": [
    "gwas = common_vds.linreg('sa.CaffeineConsumption')\n",
    "pprint(gwas.variant_schema)"
   ]
  },
  {
   "cell_type": "markdown",
   "metadata": {},
   "source": [
    "Looking at the bottom of the above printout, you can see the linear regression adds new variant annotations for the beta, standard error, t-statistic, and p-value."
   ]
  },
  {
   "cell_type": "code",
   "execution_count": 32,
   "metadata": {
    "collapsed": true
   },
   "outputs": [],
   "source": [
    "def qqplot(pvals, xMax, yMax):\n",
    "    spvals = sorted(filter(lambda x: x and not(isnan(x)), pvals))\n",
    "    exp = [-log(float(i) / len(spvals), 10) for i in np.arange(1, len(spvals) + 1, 1)]\n",
    "    obs = [-log(p, 10) for p in spvals]\n",
    "    plt.clf()\n",
    "    plt.scatter(exp, obs)\n",
    "    plt.plot(np.arange(0, max(xMax, yMax)), c=\"red\")\n",
    "    plt.xlabel(\"Expected p-value (-log10 scale)\")\n",
    "    plt.ylabel(\"Observed p-value (-log10 scale)\")\n",
    "    plt.xlim(0, xMax)\n",
    "    plt.ylim(0, yMax)\n",
    "    plt.show()"
   ]
  },
  {
   "cell_type": "markdown",
   "metadata": {},
   "source": [
    "Python makes it easy to make a Q-Q (quantile-quantile) plot."
   ]
  },
  {
   "cell_type": "code",
   "execution_count": 33,
   "metadata": {
    "collapsed": false
   },
   "outputs": [
    {
     "data": {
      "image/png": "[encoded data removed]",
      "text/plain": [
       "<matplotlib.figure.Figure at 0x7f98f0da2910>"
      ]
     },
     "metadata": {},
     "output_type": "display_data"
    }
   ],
   "source": [
    "qqplot(gwas.query_variants('variants.map(v => va.linreg.pval).collect()'),\n",
    "       5, 6)"
   ]
  },
  {
   "cell_type": "markdown",
   "metadata": {},
   "source": [
    "## Confounded!"
   ]
  },
  {
   "cell_type": "markdown",
   "metadata": {},
   "source": [
    "The observed p-values drift away from the expectation immediately. Either every SNP in our dataset is causally linked to caffeine consumption (unlikely), or there’s a confounder.\n",
    "\n",
    "We didn’t tell you, but sample ancestry was actually used to simulate this phenotype. This leads to a stratified distribution of the phenotype. The solution is to include ancestry as a covariate in our regression.\n",
    "\n",
    "The linreg method can also take sample annotations to use as covariates. We already annotated our samples with reported ancestry, but it is good to be skeptical of these labels due to human error. Genomes don’t have that problem! Instead of using reported ancestry, we will use genetic ancestry by including computed principal components in our model.\n",
    "\n",
    "The pca method produces sample PCs in sample annotations, and can also produce variant loadings and global eigenvalues when asked."
   ]
  },
  {
   "cell_type": "code",
   "execution_count": 34,
   "metadata": {
    "collapsed": false
   },
   "outputs": [
    {
     "name": "stdout",
     "output_type": "stream",
     "text": [
      "{u'eigen': {u'PC1': 110.66162664865941,\n",
      "            u'PC2': 34.30356468711475,\n",
      "            u'PC3': 12.76944445570593,\n",
      "            u'PC4': 9.403800596494895,\n",
      "            u'PC5': 4.377693585069199}}\n"
     ]
    }
   ],
   "source": [
    "pca = common_vds.pca('sa.pca', k=5, eigenvalues='global.eigen')\n",
    "pprint(pca.globals)"
   ]
  },
  {
   "cell_type": "code",
   "execution_count": 35,
   "metadata": {
    "collapsed": false
   },
   "outputs": [
    {
     "name": "stdout",
     "output_type": "stream",
     "text": [
      "Struct{\n",
      "     Population: String,\n",
      "     SuperPopulation: String,\n",
      "     isFemale: Boolean,\n",
      "     PurpleHair: Boolean,\n",
      "     CaffeineConsumption: Double,\n",
      "     qc: Struct{\n",
      "         callRate: Double,\n",
      "         nCalled: Int,\n",
      "         nNotCalled: Int,\n",
      "         nHomRef: Int,\n",
      "         nHet: Int,\n",
      "         nHomVar: Int,\n",
      "         nSNP: Int,\n",
      "         nInsertion: Int,\n",
      "         nDeletion: Int,\n",
      "         nSingleton: Int,\n",
      "         nTransition: Int,\n",
      "         nTransversion: Int,\n",
      "         dpMean: Double,\n",
      "         dpStDev: Double,\n",
      "         gqMean: Double,\n",
      "         gqStDev: Double,\n",
      "         nNonRef: Int,\n",
      "         rTiTv: Double,\n",
      "         rHetHomVar: Double,\n",
      "         rInsertionDeletion: Double\n",
      "     },\n",
      "     pca: Struct{\n",
      "         PC1: Double,\n",
      "         PC2: Double,\n",
      "         PC3: Double,\n",
      "         PC4: Double,\n",
      "         PC5: Double\n",
      "     }\n",
      " }\n"
     ]
    }
   ],
   "source": [
    "pprint(pca.sample_schema)"
   ]
  },
  {
   "cell_type": "markdown",
   "metadata": {},
   "source": [
    "Now that we’ve got principal components per sample, we may as well plot them! Human history exerts a strong effect in genetic datasets. Even with a 50MB sequencing dataset, we can recover the major human populations."
   ]
  },
  {
   "cell_type": "code",
   "execution_count": 36,
   "metadata": {
    "collapsed": false
   },
   "outputs": [
    {
     "data": {
      "image/png": "[encoded data removed]",
      "text/plain": [
       "<matplotlib.figure.Figure at 0x7f98e63bf450>"
      ]
     },
     "metadata": {},
     "output_type": "display_data"
    }
   ],
   "source": [
    "pca_table = pca.samples_table().to_pandas()\n",
    "colors = {'AFR': 'green', 'AMR': 'red', 'EAS': 'black', 'EUR': 'blue', 'SAS': 'cyan'}\n",
    "plt.scatter(pca_table[\"sa.pca.PC1\"], pca_table[\"sa.pca.PC2\"],\n",
    "            c = pca_table[\"sa.SuperPopulation\"].map(colors),\n",
    "            alpha = .5)\n",
    "plt.xlim(-0.6, 0.6)\n",
    "plt.xlabel(\"PC1\")\n",
    "plt.ylabel(\"PC2\")\n",
    "legend_entries = [mpatches.Patch(color=c, label=pheno) for pheno, c in colors.items()]\n",
    "plt.legend(handles=legend_entries, loc=2)\n",
    "plt.show()"
   ]
  },
  {
   "cell_type": "markdown",
   "metadata": {},
   "source": [
    "Now we can rerun our linear regression, controlling for the first few principal components and sample sex."
   ]
  },
  {
   "cell_type": "code",
   "execution_count": 37,
   "metadata": {
    "collapsed": false
   },
   "outputs": [
    {
     "data": {
      "image/png": "[encoded data removed]",
      "text/plain": [
       "<matplotlib.figure.Figure at 0x7f98e5934350>"
      ]
     },
     "metadata": {},
     "output_type": "display_data"
    }
   ],
   "source": [
    "pvals = (common_vds\n",
    "        .annotate_samples_table(pca.samples_table(), expr='sa.pca = table.pca')\n",
    "        .linreg('sa.CaffeineConsumption',\n",
    "                covariates=['sa.pca.PC1', 'sa.pca.PC2', 'sa.pca.PC3', 'sa.isFemale'],\n",
    "                use_dosages=True)\n",
    "        .query_variants('variants.map(v => va.linreg.pval).collect()'))\n",
    "qqplot(pvals, 5, 6)"
   ]
  },
  {
   "cell_type": "markdown",
   "metadata": {},
   "source": [
    "That’s more like it! We may not be publishing ten new coffee-drinking loci in Nature, but we shouldn’t expect to find anything but the strongest signals from a dataset of 1000 individuals anyway."
   ]
  },
  {
   "cell_type": "markdown",
   "metadata": {},
   "source": [
    "## Rare Variant Analysis"
   ]
  },
  {
   "cell_type": "markdown",
   "metadata": {},
   "source": [
    "Hail doesn’t yet have rare variant kernel-based methods, but we have linear and logistic burden tests.\n",
    "\n",
    "We won’t be showing those here, though. Instead, we’ll demonstrate how one can use the expression language to group and count by any arbitrary properties in variant or sample annotatio"
   ]
  },
  {
   "cell_type": "code",
   "execution_count": 38,
   "metadata": {
    "collapsed": false
   },
   "outputs": [
    {
     "name": "stdout",
     "output_type": "stream",
     "text": [
      "+---+----------+-------+\n",
      "|pop|chromosome|  n_het|\n",
      "+---+----------+-------+\n",
      "|AMR|        11| 560791|\n",
      "|SAS|        16| 618476|\n",
      "|SAS|         5|1221788|\n",
      "|EUR|        17| 476009|\n",
      "|EAS|        10| 777961|\n",
      "|AMR|         8| 628275|\n",
      "|AMR|        12| 569166|\n",
      "|AMR|        22| 156168|\n",
      "|EAS|        21| 238918|\n",
      "|AMR|         1| 900855|\n",
      "|AMR|         4| 849758|\n",
      "|SAS|         9| 828055|\n",
      "|EAS|         8| 843228|\n",
      "|SAS|        13| 699568|\n",
      "|AMR|        17| 318725|\n",
      "|SAS|        11| 938998|\n",
      "|EAS|        18| 447312|\n",
      "|SAS|         2|1618806|\n",
      "|AFR|         9|1314917|\n",
      "|AMR|        10| 584861|\n",
      "+---+----------+-------+\n",
      "only showing top 20 rows\n",
      "\n"
     ]
    }
   ],
   "source": [
    "kt = (vds.genotypes_table()\n",
    "         .aggregate_by_key(key_expr=['pop = sa.SuperPopulation', 'chromosome = v.contig'],\n",
    "                           agg_expr=['n_het = g.filter(g => g.isHet()).count()']))\n",
    "kt.to_dataframe().show()"
   ]
  },
  {
   "cell_type": "markdown",
   "metadata": {},
   "source": [
    "What if we want to group by minor allele frequency bin and hair color, and calculate the mean GQ?"
   ]
  },
  {
   "cell_type": "code",
   "execution_count": 39,
   "metadata": {
    "collapsed": false
   },
   "outputs": [
    {
     "name": "stdout",
     "output_type": "stream",
     "text": [
      "+-------+-----------+------------------+-----------------+\n",
      "|maf_bin|purple_hair|           mean_gq|          mean_dp|\n",
      "+-------+-----------+------------------+-----------------+\n",
      "|   < 1%|      false| 23.65247447277473|7.537011270308158|\n",
      "|   > 5%|      false| 30.94114690592288|6.838393191445045|\n",
      "|   < 1%|       true|23.419557362528174| 7.45891321759902|\n",
      "|  1%-5%|      false| 23.86203230433854|7.011309770238716|\n",
      "|  1%-5%|       true| 23.57440036136899|6.940134276034917|\n",
      "|   > 5%|       true| 30.73459154199728|6.768009879392383|\n",
      "+-------+-----------+------------------+-----------------+\n",
      "\n"
     ]
    }
   ],
   "source": [
    "kt2 = (vds.genotypes_table()\n",
    "          .aggregate_by_key(key_expr=['''maf_bin = if (va.qc.AF < 0.01) \"< 1%\"\n",
    "                                                   else if (va.qc.AF < 0.05) \"1%-5%\"\n",
    "                                                   else \"> 5%\" ''',\n",
    "                                     'purple_hair = sa.PurpleHair'],\n",
    "                           agg_expr=['mean_gq = g.map(g => g.gq).stats().mean',\n",
    "                                     'mean_dp = g.map(g => g.dp).stats().mean']))\n",
    "\n",
    "kt2.to_dataframe().show()"
   ]
  },
  {
   "cell_type": "markdown",
   "metadata": {},
   "source": [
    "We’ve shown that it’s easy to aggregate by a couple of arbitrary statistics. This specific examples may not provide especially useful pieces of information, but this same pattern can be used to detect effects of rare variation:\n",
    "\n",
    "Count the number of heterozygous genotypes per gene by functional category (synonymous, missense, or loss-of-function) to estimate per-gene functional constraint\n",
    "Count the number of singleton loss-of-function mutations per gene in cases and controls to detect genes involved in disease"
   ]
  },
  {
   "cell_type": "code",
   "execution_count": null,
   "metadata": {
    "collapsed": true
   },
   "outputs": [],
   "source": []
  }
 ],
 "metadata": {
  "anaconda-cloud": {},
  "kernelspec": {
   "display_name": "Hail",
   "language": "python",
   "name": "hail"
  },
  "language_info": {
   "codemirror_mode": {
    "name": "ipython",
    "version": 2
   },
   "file_extension": ".py",
   "mimetype": "text/x-python",
   "name": "python",
   "nbconvert_exporter": "python",
   "pygments_lexer": "ipython2",
   "version": "2.7.13"
  }
 },
 "nbformat": 4,
 "nbformat_minor": 1
}